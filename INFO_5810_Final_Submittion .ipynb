{
 "cells": [
  {
   "cell_type": "markdown",
   "id": "VRtT1EvbMepB",
   "metadata": {
    "id": "VRtT1EvbMepB"
   },
   "source": [
    "# INFO 5810 Data Analysis and Knowledge Discovery \n",
    "\n",
    "Topic : Disaster data mining based on social media texts\n",
    "\n",
    "Group Team 7\n",
    "\n",
    "Project Final Submission\n",
    "\n",
    "\n",
    "\n",
    "\n",
    "Dataset: https://www.kaggle.com/datasets/vstepanenko/disaster-tweets?resource=download\n",
    "\n",
    "we have choosen above disaster dataset from the twitter social media platform as it has most of all disasters happen in various locations around the united states it have fields like id,keyword,location,text,target where target is 1 will defines the disater incident as real.\n",
    "\n",
    "\n",
    "Github url: https://github.com/Haryanth/Project-group-7\n",
    "\n",
    "\n"
   ]
  },
  {
   "cell_type": "code",
   "execution_count": 57,
   "id": "08fe2abc",
   "metadata": {
    "colab": {
     "base_uri": "https://localhost:8080/"
    },
    "id": "08fe2abc",
    "outputId": "15b2e0cd-0d34-46c7-c347-fe3f29faa7e0"
   },
   "outputs": [
    {
     "name": "stdout",
     "output_type": "stream",
     "text": [
      "The first five records are \n",
      "The number of rows and columns are  11370 and 5\n"
     ]
    }
   ],
   "source": [
    "import pandas as pd\n",
    "import numpy as np\n",
    "import matplotlib.pyplot as plt\n",
    "import seaborn as sns\n",
    "import matplotlib as plt2\n",
    "\n",
    "# Importing and reading csv file\n",
    "df = pd.read_csv('tweet.csv')\n",
    "                 \n",
    "\n",
    "# First 5 records \n",
    "print(\"The first five records are \")\n",
    "df.head(5)\n",
    "print(\"The number of rows and columns are \",len(df.axes[0]),'and',len(df.axes[1]))"
   ]
  },
  {
   "cell_type": "markdown",
   "id": "3b38abe9",
   "metadata": {},
   "source": [
    "Data Cleaning:\n",
    " 1. Analysis on empty cells\n",
    "    1. Finding number of empty cells present in the data set.\n",
    "    2. Deciding whether to replace the data with mean, mode, median etc or to remove the empty cells.\n",
    " 2. Removing Duplicates if present in the data set."
   ]
  },
  {
   "cell_type": "code",
   "execution_count": 58,
   "id": "15e1a921",
   "metadata": {
    "colab": {
     "base_uri": "https://localhost:8080/"
    },
    "id": "15e1a921",
    "outputId": "095354f3-0d13-492a-cf0d-7e8a044c41d4"
   },
   "outputs": [
    {
     "name": "stdout",
     "output_type": "stream",
     "text": [
      "The number of rows and columns are  7952 and 5\n"
     ]
    }
   ],
   "source": [
    "# Analysis by removing empty cells\n",
    "\n",
    "new_df = df.dropna()\n",
    "print(\"The number of rows and columns are \",len(new_df.axes[0]),'and',len(new_df.axes[1]))"
   ]
  },
  {
   "cell_type": "code",
   "execution_count": 59,
   "id": "8780bcb2",
   "metadata": {
    "colab": {
     "base_uri": "https://localhost:8080/"
    },
    "id": "8780bcb2",
    "outputId": "522736c0-b4f7-44da-f830-a7a47492ad16"
   },
   "outputs": [
    {
     "name": "stdout",
     "output_type": "stream",
     "text": [
      " The number of missing values in each column are \n",
      "id             0\n",
      "keyword        0\n",
      "location    3418\n",
      "text           0\n",
      "target         0\n",
      "dtype: int64\n"
     ]
    }
   ],
   "source": [
    "# As there are nearly 4k records were removed, it is good to replace those empty values \n",
    "# Finding number of missing values present in each column \n",
    "\n",
    "print(' The number of missing values in each column are ')\n",
    "print(df.isnull().sum())"
   ]
  },
  {
   "cell_type": "code",
   "execution_count": 69,
   "id": "277c8cca",
   "metadata": {
    "colab": {
     "base_uri": "https://localhost:8080/"
    },
    "id": "277c8cca",
    "outputId": "92aa81d8-44f1-4d9b-b6c2-138af1f14592"
   },
   "outputs": [
    {
     "name": "stdout",
     "output_type": "stream",
     "text": [
      "United States              96\n",
      "Australia                  83\n",
      "London, England            81\n",
      "UK                         77\n",
      "India                      74\n",
      "                           ..\n",
      "Great State of Texas        1\n",
      "Karatina, Kenya             1\n",
      "The internet or the gym     1\n",
      "Reston, VA                  1\n",
      "auroraborealis              1\n",
      "Name: location, Length: 4504, dtype: int64\n"
     ]
    }
   ],
   "source": [
    "# From above analysis it is evident that the location column only has missing values\n",
    "# Finding different values in location column and their counts\n",
    "\n",
    "print(df.location.value_counts())"
   ]
  },
  {
   "cell_type": "code",
   "execution_count": 70,
   "id": "8712e9a5",
   "metadata": {
    "colab": {
     "base_uri": "https://localhost:8080/"
    },
    "id": "8712e9a5",
    "outputId": "720fc057-128c-4a88-bf20-939e55c66669"
   },
   "outputs": [
    {
     "name": "stdout",
     "output_type": "stream",
     "text": [
      "No.of.unique values : 4504\n"
     ]
    }
   ],
   "source": [
    "# Number of Unique values in location column\n",
    "\n",
    "n = len(pd.unique(df['location']))  \n",
    "print(\"No.of.unique values :\", n)"
   ]
  },
  {
   "cell_type": "code",
   "execution_count": 71,
   "id": "67515419",
   "metadata": {
    "colab": {
     "base_uri": "https://localhost:8080/"
    },
    "id": "67515419",
    "outputId": "25d350a9-1140-412b-f1dc-c25b8db1114e"
   },
   "outputs": [
    {
     "name": "stdout",
     "output_type": "stream",
     "text": [
      "The number of rows and columns are  7952 and 5\n",
      "Missing values in each column are \n",
      "id          0\n",
      "keyword     0\n",
      "location    0\n",
      "text        0\n",
      "target      0\n",
      "dtype: int64\n"
     ]
    }
   ],
   "source": [
    "# From the above trend, as location are nominal type of values and there are 4505 unique values in it.\n",
    "# The count of mode is 96 which is way small when compared to 8k records.\n",
    "# It is best to remove those records\n",
    "\n",
    "# Removing missing records\n",
    "df.dropna(inplace = True)\n",
    "print(\"The number of rows and columns are \",len(df.axes[0]),'and',len(df.axes[1]))\n",
    "print(\"Missing values in each column are \")\n",
    "print(df.isnull().sum())"
   ]
  },
  {
   "cell_type": "code",
   "execution_count": 72,
   "id": "b42d0ec5",
   "metadata": {
    "colab": {
     "base_uri": "https://localhost:8080/"
    },
    "id": "b42d0ec5",
    "outputId": "177170a7-55d6-4b36-d57b-b68300f67019"
   },
   "outputs": [
    {
     "name": "stdout",
     "output_type": "stream",
     "text": [
      "Columns and their data types are \n",
      "<class 'pandas.core.frame.DataFrame'>\n",
      "Int64Index: 7952 entries, 2 to 11368\n",
      "Data columns (total 5 columns):\n",
      " #   Column    Non-Null Count  Dtype \n",
      "---  ------    --------------  ----- \n",
      " 0   id        7952 non-null   int64 \n",
      " 1   keyword   7952 non-null   object\n",
      " 2   location  7952 non-null   object\n",
      " 3   text      7952 non-null   object\n",
      " 4   target    7952 non-null   int64 \n",
      "dtypes: int64(2), object(3)\n",
      "memory usage: 372.8+ KB\n",
      "None\n"
     ]
    }
   ],
   "source": [
    "# Different columns and their data types\n",
    "\n",
    "print('Columns and their data types are ')\n",
    "print(df.info())"
   ]
  },
  {
   "cell_type": "code",
   "execution_count": 73,
   "id": "b110f0b6",
   "metadata": {
    "id": "b110f0b6"
   },
   "outputs": [],
   "source": [
    "# Removing duplicates\n",
    "\n",
    "df.drop_duplicates(inplace = True)"
   ]
  },
  {
   "cell_type": "code",
   "execution_count": 74,
   "id": "10663d2f",
   "metadata": {
    "colab": {
     "base_uri": "https://localhost:8080/"
    },
    "id": "10663d2f",
    "outputId": "d1e4f079-3878-4356-c6a0-e67bec48a9e1"
   },
   "outputs": [
    {
     "name": "stdout",
     "output_type": "stream",
     "text": [
      "The number of rows and columns are  7952 and 5\n"
     ]
    }
   ],
   "source": [
    "print(\"The number of rows and columns are \",len(df.axes[0]),'and',len(df.axes[1]))"
   ]
  },
  {
   "cell_type": "code",
   "execution_count": 75,
   "id": "7033a8fd",
   "metadata": {},
   "outputs": [],
   "source": [
    "# From above it is evident that there are no duplicates in the data."
   ]
  },
  {
   "cell_type": "code",
   "execution_count": 76,
   "id": "_0ooIWXre9xY",
   "metadata": {
    "id": "_0ooIWXre9xY"
   },
   "outputs": [],
   "source": [
    "df.to_csv('./disasters_cleaned.csv', index=False)"
   ]
  },
  {
   "cell_type": "code",
   "execution_count": 77,
   "id": "iz6Itectx3Av",
   "metadata": {
    "colab": {
     "base_uri": "https://localhost:8080/",
     "height": 423
    },
    "id": "iz6Itectx3Av",
    "outputId": "1c87185d-d411-41ba-be43-e183cb85335d"
   },
   "outputs": [
    {
     "data": {
      "text/html": [
       "<div>\n",
       "<style scoped>\n",
       "    .dataframe tbody tr th:only-of-type {\n",
       "        vertical-align: middle;\n",
       "    }\n",
       "\n",
       "    .dataframe tbody tr th {\n",
       "        vertical-align: top;\n",
       "    }\n",
       "\n",
       "    .dataframe thead th {\n",
       "        text-align: right;\n",
       "    }\n",
       "</style>\n",
       "<table border=\"1\" class=\"dataframe\">\n",
       "  <thead>\n",
       "    <tr style=\"text-align: right;\">\n",
       "      <th></th>\n",
       "      <th>id</th>\n",
       "      <th>keyword</th>\n",
       "      <th>location</th>\n",
       "      <th>text</th>\n",
       "      <th>target</th>\n",
       "    </tr>\n",
       "  </thead>\n",
       "  <tbody>\n",
       "    <tr>\n",
       "      <th>2</th>\n",
       "      <td>2</td>\n",
       "      <td>ablaze</td>\n",
       "      <td>New York City</td>\n",
       "      <td>Arsonist sets cars ablaze at dealership https:...</td>\n",
       "      <td>1</td>\n",
       "    </tr>\n",
       "    <tr>\n",
       "      <th>3</th>\n",
       "      <td>3</td>\n",
       "      <td>ablaze</td>\n",
       "      <td>Morgantown, WV</td>\n",
       "      <td>Arsonist sets cars ablaze at dealership https:...</td>\n",
       "      <td>1</td>\n",
       "    </tr>\n",
       "    <tr>\n",
       "      <th>5</th>\n",
       "      <td>5</td>\n",
       "      <td>ablaze</td>\n",
       "      <td>OC</td>\n",
       "      <td>If this child was Chinese, this tweet would ha...</td>\n",
       "      <td>0</td>\n",
       "    </tr>\n",
       "    <tr>\n",
       "      <th>6</th>\n",
       "      <td>6</td>\n",
       "      <td>ablaze</td>\n",
       "      <td>London, England</td>\n",
       "      <td>Several houses have been set ablaze in Ngemsib...</td>\n",
       "      <td>1</td>\n",
       "    </tr>\n",
       "    <tr>\n",
       "      <th>7</th>\n",
       "      <td>7</td>\n",
       "      <td>ablaze</td>\n",
       "      <td>Bharat</td>\n",
       "      <td>Asansol: A BJP office in Salanpur village was ...</td>\n",
       "      <td>1</td>\n",
       "    </tr>\n",
       "    <tr>\n",
       "      <th>...</th>\n",
       "      <td>...</td>\n",
       "      <td>...</td>\n",
       "      <td>...</td>\n",
       "      <td>...</td>\n",
       "      <td>...</td>\n",
       "    </tr>\n",
       "    <tr>\n",
       "      <th>11362</th>\n",
       "      <td>11362</td>\n",
       "      <td>wrecked</td>\n",
       "      <td>feuille d'érable</td>\n",
       "      <td>Stell wrecked ako palagi sayo. Haha. #ALABTopS...</td>\n",
       "      <td>0</td>\n",
       "    </tr>\n",
       "    <tr>\n",
       "      <th>11365</th>\n",
       "      <td>11365</td>\n",
       "      <td>wrecked</td>\n",
       "      <td>Blue State in a red sea</td>\n",
       "      <td>Media should have warned us well in advance. T...</td>\n",
       "      <td>0</td>\n",
       "    </tr>\n",
       "    <tr>\n",
       "      <th>11366</th>\n",
       "      <td>11366</td>\n",
       "      <td>wrecked</td>\n",
       "      <td>arohaonces</td>\n",
       "      <td>i feel directly attacked 💀 i consider moonbin ...</td>\n",
       "      <td>0</td>\n",
       "    </tr>\n",
       "    <tr>\n",
       "      <th>11367</th>\n",
       "      <td>11367</td>\n",
       "      <td>wrecked</td>\n",
       "      <td>🇵🇭</td>\n",
       "      <td>i feel directly attacked 💀 i consider moonbin ...</td>\n",
       "      <td>0</td>\n",
       "    </tr>\n",
       "    <tr>\n",
       "      <th>11368</th>\n",
       "      <td>11368</td>\n",
       "      <td>wrecked</td>\n",
       "      <td>auroraborealis</td>\n",
       "      <td>ok who remember \"outcast\" nd the \"dora\" au?? T...</td>\n",
       "      <td>0</td>\n",
       "    </tr>\n",
       "  </tbody>\n",
       "</table>\n",
       "<p>7952 rows × 5 columns</p>\n",
       "</div>"
      ],
      "text/plain": [
       "          id  keyword                 location  \\\n",
       "2          2   ablaze            New York City   \n",
       "3          3   ablaze           Morgantown, WV   \n",
       "5          5   ablaze                       OC   \n",
       "6          6   ablaze          London, England   \n",
       "7          7   ablaze                   Bharat   \n",
       "...      ...      ...                      ...   \n",
       "11362  11362  wrecked         feuille d'érable   \n",
       "11365  11365  wrecked  Blue State in a red sea   \n",
       "11366  11366  wrecked               arohaonces   \n",
       "11367  11367  wrecked                       🇵🇭   \n",
       "11368  11368  wrecked           auroraborealis   \n",
       "\n",
       "                                                    text  target  \n",
       "2      Arsonist sets cars ablaze at dealership https:...       1  \n",
       "3      Arsonist sets cars ablaze at dealership https:...       1  \n",
       "5      If this child was Chinese, this tweet would ha...       0  \n",
       "6      Several houses have been set ablaze in Ngemsib...       1  \n",
       "7      Asansol: A BJP office in Salanpur village was ...       1  \n",
       "...                                                  ...     ...  \n",
       "11362  Stell wrecked ako palagi sayo. Haha. #ALABTopS...       0  \n",
       "11365  Media should have warned us well in advance. T...       0  \n",
       "11366  i feel directly attacked 💀 i consider moonbin ...       0  \n",
       "11367  i feel directly attacked 💀 i consider moonbin ...       0  \n",
       "11368  ok who remember \"outcast\" nd the \"dora\" au?? T...       0  \n",
       "\n",
       "[7952 rows x 5 columns]"
      ]
     },
     "execution_count": 77,
     "metadata": {},
     "output_type": "execute_result"
    }
   ],
   "source": [
    "df"
   ]
  },
  {
   "cell_type": "code",
   "execution_count": 78,
   "id": "lQla56LEwTfC",
   "metadata": {
    "colab": {
     "base_uri": "https://localhost:8080/",
     "height": 374
    },
    "id": "lQla56LEwTfC",
    "outputId": "faeb691b-57ba-4d70-b3d3-ce19b8cbcfde"
   },
   "outputs": [
    {
     "data": {
      "image/png": "[encoded data removed]",
      "text/plain": [
       "<Figure size 360x360 with 6 Axes>"
      ]
     },
     "metadata": {
      "needs_background": "light"
     },
     "output_type": "display_data"
    }
   ],
   "source": [
    "sns.pairplot(df[['target','location','keyword','id']]);"
   ]
  },
  {
   "cell_type": "code",
   "execution_count": 79,
   "id": "aHWv1SZqymux",
   "metadata": {
    "colab": {
     "base_uri": "https://localhost:8080/"
    },
    "id": "aHWv1SZqymux",
    "outputId": "a9fff16b-1615-413f-9a45-a7943fa65c0e"
   },
   "outputs": [
    {
     "name": "stdout",
     "output_type": "stream",
     "text": [
      "Types of Disasters reported:\n",
      "\n",
      " location\n",
      "Occurrences:\n",
      "\n",
      " flattened       71\n",
      "thunderstorm    70\n",
      "collision       66\n",
      "engulfed        66\n",
      "stretcher       64\n",
      "                ..\n",
      "exploded        11\n",
      "siren            7\n",
      "deluged          6\n",
      "rainstorm        6\n",
      "tsunami          5\n",
      "Name: keyword, Length: 219, dtype: int64\n"
     ]
    }
   ],
   "source": [
    "disaster_types = df['keyword'].unique()\n",
    "print(\"Types of Disasters reported:\\n\\n\", 'location')\n",
    "print(\"Occurrences:\\n\\n\",df['keyword'].value_counts())"
   ]
  },
  {
   "cell_type": "code",
   "execution_count": 80,
   "id": "w0mz_o81l4Rn",
   "metadata": {
    "colab": {
     "base_uri": "https://localhost:8080/",
     "height": 423
    },
    "id": "w0mz_o81l4Rn",
    "outputId": "5f966a8c-2537-4e36-a59c-066c9866cc9e"
   },
   "outputs": [
    {
     "data": {
      "text/html": [
       "<div>\n",
       "<style scoped>\n",
       "    .dataframe tbody tr th:only-of-type {\n",
       "        vertical-align: middle;\n",
       "    }\n",
       "\n",
       "    .dataframe tbody tr th {\n",
       "        vertical-align: top;\n",
       "    }\n",
       "\n",
       "    .dataframe thead th {\n",
       "        text-align: right;\n",
       "    }\n",
       "</style>\n",
       "<table border=\"1\" class=\"dataframe\">\n",
       "  <thead>\n",
       "    <tr style=\"text-align: right;\">\n",
       "      <th></th>\n",
       "      <th>id</th>\n",
       "      <th>keyword</th>\n",
       "      <th>location</th>\n",
       "      <th>text</th>\n",
       "      <th>target</th>\n",
       "    </tr>\n",
       "  </thead>\n",
       "  <tbody>\n",
       "    <tr>\n",
       "      <th>2</th>\n",
       "      <td>2</td>\n",
       "      <td>ablaze</td>\n",
       "      <td>New York City</td>\n",
       "      <td>Arsonist sets cars ablaze at dealership https:...</td>\n",
       "      <td>1</td>\n",
       "    </tr>\n",
       "    <tr>\n",
       "      <th>3</th>\n",
       "      <td>3</td>\n",
       "      <td>ablaze</td>\n",
       "      <td>Morgantown, WV</td>\n",
       "      <td>Arsonist sets cars ablaze at dealership https:...</td>\n",
       "      <td>1</td>\n",
       "    </tr>\n",
       "    <tr>\n",
       "      <th>5</th>\n",
       "      <td>5</td>\n",
       "      <td>ablaze</td>\n",
       "      <td>OC</td>\n",
       "      <td>If this child was Chinese, this tweet would ha...</td>\n",
       "      <td>0</td>\n",
       "    </tr>\n",
       "    <tr>\n",
       "      <th>6</th>\n",
       "      <td>6</td>\n",
       "      <td>ablaze</td>\n",
       "      <td>London, England</td>\n",
       "      <td>Several houses have been set ablaze in Ngemsib...</td>\n",
       "      <td>1</td>\n",
       "    </tr>\n",
       "    <tr>\n",
       "      <th>7</th>\n",
       "      <td>7</td>\n",
       "      <td>ablaze</td>\n",
       "      <td>Bharat</td>\n",
       "      <td>Asansol: A BJP office in Salanpur village was ...</td>\n",
       "      <td>1</td>\n",
       "    </tr>\n",
       "    <tr>\n",
       "      <th>...</th>\n",
       "      <td>...</td>\n",
       "      <td>...</td>\n",
       "      <td>...</td>\n",
       "      <td>...</td>\n",
       "      <td>...</td>\n",
       "    </tr>\n",
       "    <tr>\n",
       "      <th>11362</th>\n",
       "      <td>11362</td>\n",
       "      <td>wrecked</td>\n",
       "      <td>feuille d'érable</td>\n",
       "      <td>Stell wrecked ako palagi sayo. Haha. #ALABTopS...</td>\n",
       "      <td>0</td>\n",
       "    </tr>\n",
       "    <tr>\n",
       "      <th>11365</th>\n",
       "      <td>11365</td>\n",
       "      <td>wrecked</td>\n",
       "      <td>Blue State in a red sea</td>\n",
       "      <td>Media should have warned us well in advance. T...</td>\n",
       "      <td>0</td>\n",
       "    </tr>\n",
       "    <tr>\n",
       "      <th>11366</th>\n",
       "      <td>11366</td>\n",
       "      <td>wrecked</td>\n",
       "      <td>arohaonces</td>\n",
       "      <td>i feel directly attacked 💀 i consider moonbin ...</td>\n",
       "      <td>0</td>\n",
       "    </tr>\n",
       "    <tr>\n",
       "      <th>11367</th>\n",
       "      <td>11367</td>\n",
       "      <td>wrecked</td>\n",
       "      <td>🇵🇭</td>\n",
       "      <td>i feel directly attacked 💀 i consider moonbin ...</td>\n",
       "      <td>0</td>\n",
       "    </tr>\n",
       "    <tr>\n",
       "      <th>11368</th>\n",
       "      <td>11368</td>\n",
       "      <td>wrecked</td>\n",
       "      <td>auroraborealis</td>\n",
       "      <td>ok who remember \"outcast\" nd the \"dora\" au?? T...</td>\n",
       "      <td>0</td>\n",
       "    </tr>\n",
       "  </tbody>\n",
       "</table>\n",
       "<p>7952 rows × 5 columns</p>\n",
       "</div>"
      ],
      "text/plain": [
       "          id  keyword                 location  \\\n",
       "2          2   ablaze            New York City   \n",
       "3          3   ablaze           Morgantown, WV   \n",
       "5          5   ablaze                       OC   \n",
       "6          6   ablaze          London, England   \n",
       "7          7   ablaze                   Bharat   \n",
       "...      ...      ...                      ...   \n",
       "11362  11362  wrecked         feuille d'érable   \n",
       "11365  11365  wrecked  Blue State in a red sea   \n",
       "11366  11366  wrecked               arohaonces   \n",
       "11367  11367  wrecked                       🇵🇭   \n",
       "11368  11368  wrecked           auroraborealis   \n",
       "\n",
       "                                                    text  target  \n",
       "2      Arsonist sets cars ablaze at dealership https:...       1  \n",
       "3      Arsonist sets cars ablaze at dealership https:...       1  \n",
       "5      If this child was Chinese, this tweet would ha...       0  \n",
       "6      Several houses have been set ablaze in Ngemsib...       1  \n",
       "7      Asansol: A BJP office in Salanpur village was ...       1  \n",
       "...                                                  ...     ...  \n",
       "11362  Stell wrecked ako palagi sayo. Haha. #ALABTopS...       0  \n",
       "11365  Media should have warned us well in advance. T...       0  \n",
       "11366  i feel directly attacked 💀 i consider moonbin ...       0  \n",
       "11367  i feel directly attacked 💀 i consider moonbin ...       0  \n",
       "11368  ok who remember \"outcast\" nd the \"dora\" au?? T...       0  \n",
       "\n",
       "[7952 rows x 5 columns]"
      ]
     },
     "execution_count": 80,
     "metadata": {},
     "output_type": "execute_result"
    }
   ],
   "source": [
    "df"
   ]
  },
  {
   "cell_type": "code",
   "execution_count": 81,
   "id": "bxZgU2090s2N",
   "metadata": {
    "colab": {
     "base_uri": "https://localhost:8080/",
     "height": 443
    },
    "id": "bxZgU2090s2N",
    "outputId": "1206bb67-dd72-4df0-cb26-740be4c46b21"
   },
   "outputs": [
    {
     "name": "stderr",
     "output_type": "stream",
     "text": [
      "C:\\Users\\akula\\anaconda3\\lib\\site-packages\\seaborn\\distributions.py:2619: FutureWarning: `distplot` is a deprecated function and will be removed in a future version. Please adapt your code to use either `displot` (a figure-level function with similar flexibility) or `histplot` (an axes-level function for histograms).\n",
      "  warnings.warn(msg, FutureWarning)\n"
     ]
    },
    {
     "data": {
      "image/png": "[encoded data removed]",
      "text/plain": [
       "<Figure size 720x432 with 1 Axes>"
      ]
     },
     "metadata": {
      "needs_background": "light"
     },
     "output_type": "display_data"
    }
   ],
   "source": [
    "plt2.pyplot.figure(figsize=(10,6))\n",
    "sns.distplot(df['keyword'].value_counts());"
   ]
  },
  {
   "cell_type": "code",
   "execution_count": 82,
   "id": "PlPmYMz64jOh",
   "metadata": {
    "colab": {
     "base_uri": "https://localhost:8080/",
     "height": 455
    },
    "id": "PlPmYMz64jOh",
    "outputId": "86e52bd6-7e88-441e-9a1c-29d4215ea2df"
   },
   "outputs": [
    {
     "data": {
      "text/html": [
       "<div>\n",
       "<style scoped>\n",
       "    .dataframe tbody tr th:only-of-type {\n",
       "        vertical-align: middle;\n",
       "    }\n",
       "\n",
       "    .dataframe tbody tr th {\n",
       "        vertical-align: top;\n",
       "    }\n",
       "\n",
       "    .dataframe thead th {\n",
       "        text-align: right;\n",
       "    }\n",
       "</style>\n",
       "<table border=\"1\" class=\"dataframe\">\n",
       "  <thead>\n",
       "    <tr style=\"text-align: right;\">\n",
       "      <th></th>\n",
       "      <th>location</th>\n",
       "    </tr>\n",
       "    <tr>\n",
       "      <th>keyword</th>\n",
       "      <th></th>\n",
       "    </tr>\n",
       "  </thead>\n",
       "  <tbody>\n",
       "    <tr>\n",
       "      <th>ablaze</th>\n",
       "      <td>17</td>\n",
       "    </tr>\n",
       "    <tr>\n",
       "      <th>accident</th>\n",
       "      <td>27</td>\n",
       "    </tr>\n",
       "    <tr>\n",
       "      <th>aftershock</th>\n",
       "      <td>34</td>\n",
       "    </tr>\n",
       "    <tr>\n",
       "      <th>airplane%20accident</th>\n",
       "      <td>54</td>\n",
       "    </tr>\n",
       "    <tr>\n",
       "      <th>ambulance</th>\n",
       "      <td>26</td>\n",
       "    </tr>\n",
       "    <tr>\n",
       "      <th>...</th>\n",
       "      <td>...</td>\n",
       "    </tr>\n",
       "    <tr>\n",
       "      <th>wounded</th>\n",
       "      <td>26</td>\n",
       "    </tr>\n",
       "    <tr>\n",
       "      <th>wounds</th>\n",
       "      <td>33</td>\n",
       "    </tr>\n",
       "    <tr>\n",
       "      <th>wreck</th>\n",
       "      <td>42</td>\n",
       "    </tr>\n",
       "    <tr>\n",
       "      <th>wreckage</th>\n",
       "      <td>19</td>\n",
       "    </tr>\n",
       "    <tr>\n",
       "      <th>wrecked</th>\n",
       "      <td>25</td>\n",
       "    </tr>\n",
       "  </tbody>\n",
       "</table>\n",
       "<p>219 rows × 1 columns</p>\n",
       "</div>"
      ],
      "text/plain": [
       "                     location\n",
       "keyword                      \n",
       "ablaze                     17\n",
       "accident                   27\n",
       "aftershock                 34\n",
       "airplane%20accident        54\n",
       "ambulance                  26\n",
       "...                       ...\n",
       "wounded                    26\n",
       "wounds                     33\n",
       "wreck                      42\n",
       "wreckage                   19\n",
       "wrecked                    25\n",
       "\n",
       "[219 rows x 1 columns]"
      ]
     },
     "execution_count": 82,
     "metadata": {},
     "output_type": "execute_result"
    }
   ],
   "source": [
    "p = df[['keyword', 'location']]\n",
    "p.groupby(['location'])\n",
    "# p.reset_index(inplace=False)\n",
    "# p=p.sort_values(by='keyword',ascending=False).head(10)\n",
    "p_count = (p.groupby(['keyword']).count())\n",
    "p_count"
   ]
  },
  {
   "cell_type": "markdown",
   "id": "QY4x3qQxo26J",
   "metadata": {
    "id": "QY4x3qQxo26J"
   },
   "source": [
    "lets have a look at the frequency of locations a disaster occurred in the country."
   ]
  },
  {
   "cell_type": "code",
   "execution_count": 83,
   "id": "Fo06y9cE4FX0",
   "metadata": {
    "colab": {
     "base_uri": "https://localhost:8080/",
     "height": 483
    },
    "id": "Fo06y9cE4FX0",
    "outputId": "6a677a86-d2be-43a0-e368-a3eb655284f2"
   },
   "outputs": [
    {
     "data": {
      "image/png": "[encoded data removed]",
      "text/plain": [
       "<Figure size 1152x576 with 1 Axes>"
      ]
     },
     "metadata": {
      "needs_background": "light"
     },
     "output_type": "display_data"
    }
   ],
   "source": [
    "plt2.pyplot.figure(figsize=(16,8))\n",
    "plt.scatter(p_count.index, p_count['location'], c='blue')\n",
    "plt.show()"
   ]
  },
  {
   "cell_type": "code",
   "execution_count": 84,
   "id": "YJwLEiPTx0ge",
   "metadata": {
    "colab": {
     "base_uri": "https://localhost:8080/"
    },
    "id": "YJwLEiPTx0ge",
    "outputId": "10d86392-dfc1-4830-81ec-1d6478025b22"
   },
   "outputs": [
    {
     "name": "stdout",
     "output_type": "stream",
     "text": [
      "Texas mostly faces:\n",
      "\n"
     ]
    },
    {
     "data": {
      "text/plain": [
       "keyword    electrocute\n",
       "Name: TX, dtype: object"
      ]
     },
     "execution_count": 84,
     "metadata": {},
     "output_type": "execute_result"
    }
   ],
   "source": [
    "print(\"Texas mostly faces:\\n\")\n",
    "df[['location','keyword']].groupby('location').max().loc['TX']"
   ]
  },
  {
   "cell_type": "code",
   "execution_count": 85,
   "id": "565121bb",
   "metadata": {
    "colab": {
     "base_uri": "https://localhost:8080/",
     "height": 300
    },
    "id": "565121bb",
    "outputId": "0b4d5f75-bcc7-4380-ceb2-7897c702da60"
   },
   "outputs": [
    {
     "data": {
      "text/html": [
       "<div>\n",
       "<style scoped>\n",
       "    .dataframe tbody tr th:only-of-type {\n",
       "        vertical-align: middle;\n",
       "    }\n",
       "\n",
       "    .dataframe tbody tr th {\n",
       "        vertical-align: top;\n",
       "    }\n",
       "\n",
       "    .dataframe thead th {\n",
       "        text-align: right;\n",
       "    }\n",
       "</style>\n",
       "<table border=\"1\" class=\"dataframe\">\n",
       "  <thead>\n",
       "    <tr style=\"text-align: right;\">\n",
       "      <th></th>\n",
       "      <th>id</th>\n",
       "      <th>target</th>\n",
       "    </tr>\n",
       "  </thead>\n",
       "  <tbody>\n",
       "    <tr>\n",
       "      <th>count</th>\n",
       "      <td>7952.000000</td>\n",
       "      <td>7952.000000</td>\n",
       "    </tr>\n",
       "    <tr>\n",
       "      <th>mean</th>\n",
       "      <td>5679.721705</td>\n",
       "      <td>0.192530</td>\n",
       "    </tr>\n",
       "    <tr>\n",
       "      <th>std</th>\n",
       "      <td>3260.075795</td>\n",
       "      <td>0.394312</td>\n",
       "    </tr>\n",
       "    <tr>\n",
       "      <th>min</th>\n",
       "      <td>2.000000</td>\n",
       "      <td>0.000000</td>\n",
       "    </tr>\n",
       "    <tr>\n",
       "      <th>25%</th>\n",
       "      <td>2854.750000</td>\n",
       "      <td>0.000000</td>\n",
       "    </tr>\n",
       "    <tr>\n",
       "      <th>50%</th>\n",
       "      <td>5674.500000</td>\n",
       "      <td>0.000000</td>\n",
       "    </tr>\n",
       "    <tr>\n",
       "      <th>75%</th>\n",
       "      <td>8507.500000</td>\n",
       "      <td>0.000000</td>\n",
       "    </tr>\n",
       "    <tr>\n",
       "      <th>max</th>\n",
       "      <td>11368.000000</td>\n",
       "      <td>1.000000</td>\n",
       "    </tr>\n",
       "  </tbody>\n",
       "</table>\n",
       "</div>"
      ],
      "text/plain": [
       "                 id       target\n",
       "count   7952.000000  7952.000000\n",
       "mean    5679.721705     0.192530\n",
       "std     3260.075795     0.394312\n",
       "min        2.000000     0.000000\n",
       "25%     2854.750000     0.000000\n",
       "50%     5674.500000     0.000000\n",
       "75%     8507.500000     0.000000\n",
       "max    11368.000000     1.000000"
      ]
     },
     "execution_count": 85,
     "metadata": {},
     "output_type": "execute_result"
    }
   ],
   "source": [
    "# Description of Data\n",
    "\n",
    "df.describe()"
   ]
  },
  {
   "cell_type": "code",
   "execution_count": 86,
   "id": "cb64453e",
   "metadata": {
    "colab": {
     "base_uri": "https://localhost:8080/",
     "height": 296
    },
    "id": "cb64453e",
    "outputId": "1fdba7f9-31f2-4693-f830-c7fc253db27d"
   },
   "outputs": [
    {
     "data": {
      "text/plain": [
       "<AxesSubplot:xlabel='keyword', ylabel='location'>"
      ]
     },
     "execution_count": 86,
     "metadata": {},
     "output_type": "execute_result"
    },
    {
     "data": {
      "image/png": "[encoded data removed]",
      "text/plain": [
       "<Figure size 432x288 with 1 Axes>"
      ]
     },
     "metadata": {
      "needs_background": "light"
     },
     "output_type": "display_data"
    }
   ],
   "source": [
    "# Detecting outliners\n",
    "sns.boxplot(x=p_count.index, y=p_count['location'])"
   ]
  },
  {
   "cell_type": "code",
   "execution_count": 87,
   "id": "a42bcf0b",
   "metadata": {
    "colab": {
     "base_uri": "https://localhost:8080/",
     "height": 296
    },
    "id": "a42bcf0b",
    "outputId": "1903b6aa-fc3e-496d-d24b-b316bf044e44"
   },
   "outputs": [
    {
     "data": {
      "text/plain": [
       "<AxesSubplot:xlabel='id'>"
      ]
     },
     "execution_count": 87,
     "metadata": {},
     "output_type": "execute_result"
    },
    {
     "data": {
      "image/png": "[encoded data removed]",
      "text/plain": [
       "<Figure size 432x288 with 1 Axes>"
      ]
     },
     "metadata": {
      "needs_background": "light"
     },
     "output_type": "display_data"
    }
   ],
   "source": [
    "sns.boxplot(x=df['id'])"
   ]
  },
  {
   "cell_type": "code",
   "execution_count": 89,
   "id": "8f4e75a9",
   "metadata": {},
   "outputs": [
    {
     "name": "stdout",
     "output_type": "stream",
     "text": [
      "(7952,)\n"
     ]
    }
   ],
   "source": [
    "#Logistic Regression Model Buiding \n",
    "\n",
    "from sklearn import datasets, linear_model, metrics\n",
    "from sklearn.model_selection import train_test_split\n",
    "\n",
    "#X = df.drop('target',axis=1)\n",
    "X = df['text']\n",
    "y = df['target']\n",
    "\n",
    "X_train, X_test, y_train, y_test = train_test_split(X, y, test_size=0.33,random_state=42)\n",
    "print(X.shape)\n"
   ]
  },
  {
   "cell_type": "code",
   "execution_count": 90,
   "id": "1c4fbaf7",
   "metadata": {},
   "outputs": [
    {
     "name": "stdout",
     "output_type": "stream",
     "text": [
      "(5327,) (2625,) (5327,) (2625,)\n"
     ]
    }
   ],
   "source": [
    "print(X_train.shape,X_test.shape,y_train.shape,y_test.shape)"
   ]
  },
  {
   "cell_type": "code",
   "execution_count": 91,
   "id": "d83255ae",
   "metadata": {},
   "outputs": [
    {
     "name": "stderr",
     "output_type": "stream",
     "text": [
      "[nltk_data] Downloading package stopwords to\n",
      "[nltk_data]     C:\\Users\\akula\\AppData\\Roaming\\nltk_data...\n",
      "[nltk_data]   Package stopwords is already up-to-date!\n"
     ]
    }
   ],
   "source": [
    "import nltk\n",
    "nltk.download('stopwords')\n",
    "from nltk.corpus import stopwords\n",
    "stop = stopwords.words('english')\n",
    "# Porter stemmer\n",
    "from nltk.stem.porter import PorterStemmer\n",
    "porter = PorterStemmer()\n",
    "# Snowball stemmer\n",
    "from nltk.stem import SnowballStemmer\n",
    "snowball = SnowballStemmer('english')\n",
    "# Wordnet lemmatizer\n",
    "from nltk.stem import WordNetLemmatizer\n",
    "lemmatizer = WordNetLemmatizer()\n",
    "from sklearn.feature_extraction.text import CountVectorizer, TfidfVectorizer\n",
    "from sklearn.pipeline import Pipeline\n",
    "from sklearn.linear_model import LogisticRegression\n",
    "from sklearn.model_selection import GridSearchCV\n",
    "\n",
    "\n",
    "#Using count vectors\n",
    "vectorizer = CountVectorizer(min_df=5)\n",
    "vectors = vectorizer.fit_transform(df['text'])"
   ]
  },
  {
   "cell_type": "code",
   "execution_count": 92,
   "id": "ff4074e4",
   "metadata": {},
   "outputs": [
    {
     "name": "stderr",
     "output_type": "stream",
     "text": [
      "C:\\Users\\akula\\anaconda3\\lib\\site-packages\\sklearn\\utils\\validation.py:593: FutureWarning: np.matrix usage is deprecated in 1.0 and will raise a TypeError in 1.2. Please convert to a numpy array with np.asarray. For more information see: https://numpy.org/doc/stable/reference/generated/numpy.matrix.html\n",
      "  warnings.warn(\n"
     ]
    },
    {
     "data": {
      "text/plain": [
       "Text(0, 0.5, 'The Second Principal Component')"
      ]
     },
     "execution_count": 92,
     "metadata": {},
     "output_type": "execute_result"
    },
    {
     "data": {
      "image/png": "[encoded data removed]",
      "text/plain": [
       "<Figure size 576x432 with 1 Axes>"
      ]
     },
     "metadata": {
      "needs_background": "light"
     },
     "output_type": "display_data"
    }
   ],
   "source": [
    "from sklearn.decomposition import PCA\n",
    "\n",
    "#Reducing dimensionality of large dataset \n",
    "\n",
    "pcanalysis = PCA(n_components=2)\n",
    "x_pcanalysis = pcanalysis.fit_transform(vectors.todense())\n",
    "plt.figure(figsize=(8,6))\n",
    "plt.scatter(x_pcanalysis[:,0],x_pcanalysis[:,1],c=df['target'],cmap='rainbow')\n",
    "plt.xlabel('The First principal component')\n",
    "plt.ylabel('The Second Principal Component')"
   ]
  },
  {
   "cell_type": "code",
   "execution_count": 93,
   "id": "13f9deeb",
   "metadata": {},
   "outputs": [],
   "source": [
    "#Using TF IDF \n",
    "#Normalizing the Data \n",
    "\n",
    "TFIDF = TfidfVectorizer(min_df=5)\n",
    "tfidf_vectors = TFIDF.fit_transform(df['text'])"
   ]
  },
  {
   "cell_type": "code",
   "execution_count": 94,
   "id": "02944797",
   "metadata": {},
   "outputs": [
    {
     "name": "stderr",
     "output_type": "stream",
     "text": [
      "C:\\Users\\akula\\anaconda3\\lib\\site-packages\\sklearn\\utils\\validation.py:593: FutureWarning: np.matrix usage is deprecated in 1.0 and will raise a TypeError in 1.2. Please convert to a numpy array with np.asarray. For more information see: https://numpy.org/doc/stable/reference/generated/numpy.matrix.html\n",
      "  warnings.warn(\n"
     ]
    },
    {
     "data": {
      "text/plain": [
       "Text(0, 0.5, 'The Second Principal Component')"
      ]
     },
     "execution_count": 94,
     "metadata": {},
     "output_type": "execute_result"
    },
    {
     "data": {
      "image/png": "[encoded data removed]",
      "text/plain": [
       "<Figure size 576x432 with 1 Axes>"
      ]
     },
     "metadata": {
      "needs_background": "light"
     },
     "output_type": "display_data"
    }
   ],
   "source": [
    "# Applying PCA technique to TF IDF vectors \n",
    "\n",
    "tfidf_pca = PCA(n_components=2)\n",
    "x_pca = tfidf_pca.fit_transform(tfidf_vectors.todense())\n",
    "plt.figure(figsize=(8,6))\n",
    "plt.scatter(x_pca[:,0],x_pca[:,1],c=df['target'],cmap='rainbow')\n",
    "plt.xlabel('The First principal component')\n",
    "plt.ylabel('The Second Principal Component')"
   ]
  },
  {
   "cell_type": "code",
   "execution_count": 95,
   "id": "17b6161a",
   "metadata": {},
   "outputs": [],
   "source": [
    "def split(text):\n",
    "    return text.split()\n",
    "\n",
    "def porter(text):\n",
    "    return [porter.stem(word) for word in text.split()]\n",
    "\n",
    "def snowball(text):\n",
    "    return [snowball.stem(word) for word in text.split()]\n",
    "\n",
    "def wordnet_lemmatizer(text):\n",
    "    return [lemmatizer.lemmatize(word) for word in text.split()]\n",
    "\n",
    "TFIDF = TfidfVectorizer(strip_accents=None, lowercase=False, preprocessor=None)"
   ]
  },
  {
   "cell_type": "code",
   "execution_count": 96,
   "id": "e6de36bc",
   "metadata": {},
   "outputs": [],
   "source": [
    "param_grid = [\n",
    "    {\n",
    "        'vect__ngram_range': [(1, 2)],\n",
    "        'vect__stop_words': [stop, None],\n",
    "        'vect__tokenizer': [split, porter, snowball, wordnet_lemmatizer],\n",
    "        'clf__penalty': ['l1', 'l2'],\n",
    "        'clf__C': [1.0, 10.0, 100.0]        \n",
    "    },\n",
    "    {\n",
    "        'vect__ngram_range': [(1, 2)],\n",
    "        'vect__stop_words': [stop, None],\n",
    "        'vect__tokenizer': [split, porter, snowball, wordnet_lemmatizer],\n",
    "        'vect__use_idf': [False],\n",
    "        'vect__norm': [None],\n",
    "        'clf__penalty': ['l1', 'l2'],\n",
    "        'clf__C': [1.0, 10.0, 100.0]\n",
    "    }\n",
    "]\n",
    "\n",
    "pipeline_tfidf = Pipeline([('vect', TFIDF),\n",
    "                     ('clf', LogisticRegression(C=0.1, penalty='l1', solver='liblinear'))])\n",
    "\n",
    "#Using the grid search\n",
    "grid_tfidf = GridSearchCV(pipeline_tfidf, param_grid, scoring='accuracy',\n",
    "                           cv=5, verbose=1, n_jobs=-1)"
   ]
  },
  {
   "cell_type": "code",
   "execution_count": 97,
   "id": "bec72102",
   "metadata": {},
   "outputs": [
    {
     "name": "stderr",
     "output_type": "stream",
     "text": [
      "[nltk_data] Downloading package wordnet to\n",
      "[nltk_data]     C:\\Users\\akula\\AppData\\Roaming\\nltk_data...\n",
      "[nltk_data]   Package wordnet is already up-to-date!\n"
     ]
    },
    {
     "name": "stdout",
     "output_type": "stream",
     "text": [
      "Fitting 5 folds for each of 96 candidates, totalling 480 fits\n"
     ]
    },
    {
     "name": "stderr",
     "output_type": "stream",
     "text": [
      "C:\\Users\\akula\\anaconda3\\lib\\site-packages\\sklearn\\model_selection\\_validation.py:372: FitFailedWarning: \n",
      "360 fits failed out of a total of 480.\n",
      "The score on these train-test partitions for these parameters will be set to nan.\n",
      "If these failures are not expected, you can try to debug them by setting error_score='raise'.\n",
      "\n",
      "Below are more details about the failures:\n",
      "--------------------------------------------------------------------------------\n",
      "120 fits failed with the following error:\n",
      "Traceback (most recent call last):\n",
      "  File \"C:\\Users\\akula\\anaconda3\\lib\\site-packages\\sklearn\\model_selection\\_validation.py\", line 680, in _fit_and_score\n",
      "    estimator.fit(X_train, y_train, **fit_params)\n",
      "  File \"C:\\Users\\akula\\anaconda3\\lib\\site-packages\\sklearn\\pipeline.py\", line 390, in fit\n",
      "    Xt = self._fit(X, y, **fit_params_steps)\n",
      "  File \"C:\\Users\\akula\\anaconda3\\lib\\site-packages\\sklearn\\pipeline.py\", line 348, in _fit\n",
      "    X, fitted_transformer = fit_transform_one_cached(\n",
      "  File \"C:\\Users\\akula\\anaconda3\\lib\\site-packages\\joblib\\memory.py\", line 349, in __call__\n",
      "    return self.func(*args, **kwargs)\n",
      "  File \"C:\\Users\\akula\\anaconda3\\lib\\site-packages\\sklearn\\pipeline.py\", line 893, in _fit_transform_one\n",
      "    res = transformer.fit_transform(X, y, **fit_params)\n",
      "  File \"C:\\Users\\akula\\anaconda3\\lib\\site-packages\\sklearn\\feature_extraction\\text.py\", line 2077, in fit_transform\n",
      "    X = super().fit_transform(raw_documents)\n",
      "  File \"C:\\Users\\akula\\anaconda3\\lib\\site-packages\\sklearn\\feature_extraction\\text.py\", line 1330, in fit_transform\n",
      "    vocabulary, X = self._count_vocab(raw_documents, self.fixed_vocabulary_)\n",
      "  File \"C:\\Users\\akula\\anaconda3\\lib\\site-packages\\sklearn\\feature_extraction\\text.py\", line 1201, in _count_vocab\n",
      "    for feature in analyze(doc):\n",
      "  File \"C:\\Users\\akula\\anaconda3\\lib\\site-packages\\sklearn\\feature_extraction\\text.py\", line 115, in _analyze\n",
      "    doc = tokenizer(doc)\n",
      "  File \"C:\\Users\\akula\\AppData\\Local\\Temp\\ipykernel_19204\\1931589841.py\", line 5, in porter\n",
      "  File \"C:\\Users\\akula\\AppData\\Local\\Temp\\ipykernel_19204\\1931589841.py\", line 5, in <listcomp>\n",
      "AttributeError: 'function' object has no attribute 'stem'\n",
      "\n",
      "--------------------------------------------------------------------------------\n",
      "120 fits failed with the following error:\n",
      "Traceback (most recent call last):\n",
      "  File \"C:\\Users\\akula\\anaconda3\\lib\\site-packages\\sklearn\\model_selection\\_validation.py\", line 680, in _fit_and_score\n",
      "    estimator.fit(X_train, y_train, **fit_params)\n",
      "  File \"C:\\Users\\akula\\anaconda3\\lib\\site-packages\\sklearn\\pipeline.py\", line 390, in fit\n",
      "    Xt = self._fit(X, y, **fit_params_steps)\n",
      "  File \"C:\\Users\\akula\\anaconda3\\lib\\site-packages\\sklearn\\pipeline.py\", line 348, in _fit\n",
      "    X, fitted_transformer = fit_transform_one_cached(\n",
      "  File \"C:\\Users\\akula\\anaconda3\\lib\\site-packages\\joblib\\memory.py\", line 349, in __call__\n",
      "    return self.func(*args, **kwargs)\n",
      "  File \"C:\\Users\\akula\\anaconda3\\lib\\site-packages\\sklearn\\pipeline.py\", line 893, in _fit_transform_one\n",
      "    res = transformer.fit_transform(X, y, **fit_params)\n",
      "  File \"C:\\Users\\akula\\anaconda3\\lib\\site-packages\\sklearn\\feature_extraction\\text.py\", line 2077, in fit_transform\n",
      "    X = super().fit_transform(raw_documents)\n",
      "  File \"C:\\Users\\akula\\anaconda3\\lib\\site-packages\\sklearn\\feature_extraction\\text.py\", line 1330, in fit_transform\n",
      "    vocabulary, X = self._count_vocab(raw_documents, self.fixed_vocabulary_)\n",
      "  File \"C:\\Users\\akula\\anaconda3\\lib\\site-packages\\sklearn\\feature_extraction\\text.py\", line 1201, in _count_vocab\n",
      "    for feature in analyze(doc):\n",
      "  File \"C:\\Users\\akula\\anaconda3\\lib\\site-packages\\sklearn\\feature_extraction\\text.py\", line 115, in _analyze\n",
      "    doc = tokenizer(doc)\n",
      "  File \"C:\\Users\\akula\\AppData\\Local\\Temp\\ipykernel_19204\\1931589841.py\", line 8, in snowball\n",
      "  File \"C:\\Users\\akula\\AppData\\Local\\Temp\\ipykernel_19204\\1931589841.py\", line 8, in <listcomp>\n",
      "AttributeError: 'function' object has no attribute 'stem'\n",
      "\n",
      "--------------------------------------------------------------------------------\n",
      "120 fits failed with the following error:\n",
      "Traceback (most recent call last):\n",
      "  File \"C:\\Users\\akula\\anaconda3\\lib\\site-packages\\nltk\\corpus\\util.py\", line 84, in __load\n",
      "    root = nltk.data.find(f\"{self.subdir}/{zip_name}\")\n",
      "  File \"C:\\Users\\akula\\anaconda3\\lib\\site-packages\\nltk\\data.py\", line 583, in find\n",
      "    raise LookupError(resource_not_found)\n",
      "LookupError: \n",
      "**********************************************************************\n",
      "  Resource \u001b[93momw-1.4\u001b[0m not found.\n",
      "  Please use the NLTK Downloader to obtain the resource:\n",
      "\n",
      "  \u001b[31m>>> import nltk\n",
      "  >>> nltk.download('omw-1.4')\n",
      "  \u001b[0m\n",
      "  For more information see: https://www.nltk.org/data.html\n",
      "\n",
      "  Attempted to load \u001b[93mcorpora/omw-1.4.zip/omw-1.4/\u001b[0m\n",
      "\n",
      "  Searched in:\n",
      "    - 'C:\\\\Users\\\\akula/nltk_data'\n",
      "    - 'C:\\\\Users\\\\akula\\\\anaconda3\\\\nltk_data'\n",
      "    - 'C:\\\\Users\\\\akula\\\\anaconda3\\\\share\\\\nltk_data'\n",
      "    - 'C:\\\\Users\\\\akula\\\\anaconda3\\\\lib\\\\nltk_data'\n",
      "    - 'C:\\\\Users\\\\akula\\\\AppData\\\\Roaming\\\\nltk_data'\n",
      "    - 'C:\\\\nltk_data'\n",
      "    - 'D:\\\\nltk_data'\n",
      "    - 'E:\\\\nltk_data'\n",
      "**********************************************************************\n",
      "\n",
      "\n",
      "During handling of the above exception, another exception occurred:\n",
      "\n",
      "Traceback (most recent call last):\n",
      "  File \"C:\\Users\\akula\\anaconda3\\lib\\site-packages\\sklearn\\model_selection\\_validation.py\", line 680, in _fit_and_score\n",
      "    estimator.fit(X_train, y_train, **fit_params)\n",
      "  File \"C:\\Users\\akula\\anaconda3\\lib\\site-packages\\sklearn\\pipeline.py\", line 390, in fit\n",
      "    Xt = self._fit(X, y, **fit_params_steps)\n",
      "  File \"C:\\Users\\akula\\anaconda3\\lib\\site-packages\\sklearn\\pipeline.py\", line 348, in _fit\n",
      "    X, fitted_transformer = fit_transform_one_cached(\n",
      "  File \"C:\\Users\\akula\\anaconda3\\lib\\site-packages\\joblib\\memory.py\", line 349, in __call__\n",
      "    return self.func(*args, **kwargs)\n",
      "  File \"C:\\Users\\akula\\anaconda3\\lib\\site-packages\\sklearn\\pipeline.py\", line 893, in _fit_transform_one\n",
      "    res = transformer.fit_transform(X, y, **fit_params)\n",
      "  File \"C:\\Users\\akula\\anaconda3\\lib\\site-packages\\sklearn\\feature_extraction\\text.py\", line 2077, in fit_transform\n",
      "    X = super().fit_transform(raw_documents)\n",
      "  File \"C:\\Users\\akula\\anaconda3\\lib\\site-packages\\sklearn\\feature_extraction\\text.py\", line 1330, in fit_transform\n",
      "    vocabulary, X = self._count_vocab(raw_documents, self.fixed_vocabulary_)\n",
      "  File \"C:\\Users\\akula\\anaconda3\\lib\\site-packages\\sklearn\\feature_extraction\\text.py\", line 1201, in _count_vocab\n",
      "    for feature in analyze(doc):\n",
      "  File \"C:\\Users\\akula\\anaconda3\\lib\\site-packages\\sklearn\\feature_extraction\\text.py\", line 115, in _analyze\n",
      "    doc = tokenizer(doc)\n",
      "  File \"C:\\Users\\akula\\AppData\\Local\\Temp\\ipykernel_19204\\1931589841.py\", line 11, in wordnet_lemmatizer\n",
      "  File \"C:\\Users\\akula\\AppData\\Local\\Temp\\ipykernel_19204\\1931589841.py\", line 11, in <listcomp>\n",
      "  File \"C:\\Users\\akula\\anaconda3\\lib\\site-packages\\nltk\\stem\\wordnet.py\", line 45, in lemmatize\n",
      "    lemmas = wn._morphy(word, pos)\n",
      "  File \"C:\\Users\\akula\\anaconda3\\lib\\site-packages\\nltk\\corpus\\util.py\", line 121, in __getattr__\n",
      "    self.__load()\n",
      "  File \"C:\\Users\\akula\\anaconda3\\lib\\site-packages\\nltk\\corpus\\util.py\", line 89, in __load\n",
      "    corpus = self.__reader_cls(root, *self.__args, **self.__kwargs)\n",
      "  File \"C:\\Users\\akula\\anaconda3\\lib\\site-packages\\nltk\\corpus\\reader\\wordnet.py\", line 1176, in __init__\n",
      "    self.provenances = self.omw_prov()\n",
      "  File \"C:\\Users\\akula\\anaconda3\\lib\\site-packages\\nltk\\corpus\\reader\\wordnet.py\", line 1285, in omw_prov\n",
      "    fileids = self._omw_reader.fileids()\n",
      "  File \"C:\\Users\\akula\\anaconda3\\lib\\site-packages\\nltk\\corpus\\util.py\", line 121, in __getattr__\n",
      "    self.__load()\n",
      "  File \"C:\\Users\\akula\\anaconda3\\lib\\site-packages\\nltk\\corpus\\util.py\", line 86, in __load\n",
      "    raise e\n",
      "  File \"C:\\Users\\akula\\anaconda3\\lib\\site-packages\\nltk\\corpus\\util.py\", line 81, in __load\n",
      "    root = nltk.data.find(f\"{self.subdir}/{self.__name}\")\n",
      "  File \"C:\\Users\\akula\\anaconda3\\lib\\site-packages\\nltk\\data.py\", line 583, in find\n",
      "    raise LookupError(resource_not_found)\n",
      "LookupError: \n",
      "**********************************************************************\n",
      "  Resource \u001b[93momw-1.4\u001b[0m not found.\n",
      "  Please use the NLTK Downloader to obtain the resource:\n",
      "\n",
      "  \u001b[31m>>> import nltk\n",
      "  >>> nltk.download('omw-1.4')\n",
      "  \u001b[0m\n",
      "  For more information see: https://www.nltk.org/data.html\n",
      "\n",
      "  Attempted to load \u001b[93mcorpora/omw-1.4\u001b[0m\n",
      "\n",
      "  Searched in:\n",
      "    - 'C:\\\\Users\\\\akula/nltk_data'\n",
      "    - 'C:\\\\Users\\\\akula\\\\anaconda3\\\\nltk_data'\n",
      "    - 'C:\\\\Users\\\\akula\\\\anaconda3\\\\share\\\\nltk_data'\n",
      "    - 'C:\\\\Users\\\\akula\\\\anaconda3\\\\lib\\\\nltk_data'\n",
      "    - 'C:\\\\Users\\\\akula\\\\AppData\\\\Roaming\\\\nltk_data'\n",
      "    - 'C:\\\\nltk_data'\n",
      "    - 'D:\\\\nltk_data'\n",
      "    - 'E:\\\\nltk_data'\n",
      "**********************************************************************\n",
      "\n",
      "\n",
      "  warnings.warn(some_fits_failed_message, FitFailedWarning)\n",
      "C:\\Users\\akula\\anaconda3\\lib\\site-packages\\sklearn\\model_selection\\_search.py:969: UserWarning: One or more of the test scores are non-finite: [0.82936043        nan        nan        nan 0.82485532        nan\n",
      "        nan        nan 0.82447956        nan        nan        nan\n",
      " 0.83255186        nan        nan        nan 0.8301116         nan\n",
      "        nan        nan 0.83029922        nan        nan        nan\n",
      " 0.87629046        nan        nan        nan 0.88210783        nan\n",
      "        nan        nan 0.83630755        nan        nan        nan\n",
      " 0.83649499        nan        nan        nan 0.88135824        nan\n",
      "        nan        nan 0.88379921        nan        nan        nan\n",
      " 0.85695584        nan        nan        nan 0.8586444         nan\n",
      "        nan        nan 0.87122198        nan        nan        nan\n",
      " 0.87797849        nan        nan        nan 0.86239903        nan\n",
      "        nan        nan 0.85733055        nan        nan        nan\n",
      " 0.87497679        nan        nan        nan 0.88023095        nan\n",
      "        nan        nan 0.86465167        nan        nan        nan\n",
      " 0.85845608        nan        nan        nan 0.87610355        nan\n",
      "        nan        nan 0.88004351        nan        nan        nan]\n",
      "  warnings.warn(\n"
     ]
    },
    {
     "data": {
      "text/plain": [
       "GridSearchCV(cv=5,\n",
       "             estimator=Pipeline(steps=[('vect',\n",
       "                                        TfidfVectorizer(lowercase=False)),\n",
       "                                       ('clf',\n",
       "                                        LogisticRegression(C=0.1, penalty='l1',\n",
       "                                                           solver='liblinear'))]),\n",
       "             n_jobs=-1,\n",
       "             param_grid=[{'clf__C': [1.0, 10.0, 100.0],\n",
       "                          'clf__penalty': ['l1', 'l2'],\n",
       "                          'vect__ngram_range': [(1, 2)],\n",
       "                          'vect__stop_words': [['i', 'me', 'my', 'myself', 'we',\n",
       "                                                'our', 'ours', 'ourselves',\n",
       "                                                'you', \"you're\", \"yo...\n",
       "                                                'yourselves', 'he', 'him',\n",
       "                                                'his', 'himself', 'she',\n",
       "                                                \"she's\", 'her', 'hers',\n",
       "                                                'herself', 'it', \"it's\", 'its',\n",
       "                                                'itself', ...],\n",
       "                                               None],\n",
       "                          'vect__tokenizer': [<function split at 0x000002B9CDBA09D0>,\n",
       "                                              <function porter at 0x000002B9CCA53310>,\n",
       "                                              <function snowball at 0x000002B9CCA53280>,\n",
       "                                              <function wordnet_lemmatizer at 0x000002B9CCA531F0>],\n",
       "                          'vect__use_idf': [False]}],\n",
       "             scoring='accuracy', verbose=1)"
      ]
     },
     "execution_count": 97,
     "metadata": {},
     "output_type": "execute_result"
    }
   ],
   "source": [
    "nltk.download('wordnet')\n",
    "X_train.shape\n",
    "y_train.shape\n",
    "grid_tfidf.fit(X_train, y_train)"
   ]
  },
  {
   "cell_type": "code",
   "execution_count": 98,
   "id": "4eb6ba4a",
   "metadata": {},
   "outputs": [
    {
     "data": {
      "text/plain": [
       "{'clf__C': 100.0,\n",
       " 'clf__penalty': 'l2',\n",
       " 'vect__ngram_range': (1, 2),\n",
       " 'vect__stop_words': None,\n",
       " 'vect__tokenizer': <function __main__.split(text)>}"
      ]
     },
     "execution_count": 98,
     "metadata": {},
     "output_type": "execute_result"
    }
   ],
   "source": [
    "grid_tfidf.best_params_"
   ]
  },
  {
   "cell_type": "code",
   "execution_count": 99,
   "id": "4cf6e238",
   "metadata": {},
   "outputs": [
    {
     "data": {
      "text/plain": [
       "0.8837992054893464"
      ]
     },
     "execution_count": 99,
     "metadata": {},
     "output_type": "execute_result"
    }
   ],
   "source": [
    "grid_tfidf.best_score_"
   ]
  },
  {
   "cell_type": "code",
   "execution_count": 100,
   "id": "0dbee044",
   "metadata": {},
   "outputs": [
    {
     "data": {
      "text/plain": [
       "0.8853333333333333"
      ]
     },
     "execution_count": 100,
     "metadata": {},
     "output_type": "execute_result"
    }
   ],
   "source": [
    "# Accuracy of Model\n",
    "estimator = grid_tfidf.best_estimator_\n",
    "estimator.score(X_test, y_test)"
   ]
  },
  {
   "cell_type": "code",
   "execution_count": 102,
   "id": "262a0142",
   "metadata": {},
   "outputs": [
    {
     "name": "stdout",
     "output_type": "stream",
     "text": [
      "Arsonist sets cars ablaze at dealership https://t.co/gOQvyJbpVI\n",
      "The predicted value is  [1]\n",
      "True target:  1\n"
     ]
    }
   ],
   "source": [
    "#Prediction from the built model\n",
    "\n",
    "print(df['text'].iloc[0])\n",
    "print('The predicted value is ',estimator.predict([df['text'].iloc[0]]))\n",
    "print('True target: ', df['target'].iloc[0])"
   ]
  }
 ],
 "metadata": {
  "colab": {
   "provenance": []
  },
  "kernelspec": {
   "display_name": "Python 3 (ipykernel)",
   "language": "python",
   "name": "python3"
  },
  "language_info": {
   "codemirror_mode": {
    "name": "ipython",
    "version": 3
   },
   "file_extension": ".py",
   "mimetype": "text/x-python",
   "name": "python",
   "nbconvert_exporter": "python",
   "pygments_lexer": "ipython3",
   "version": "3.9.12"
  }
 },
 "nbformat": 4,
 "nbformat_minor": 5
}
